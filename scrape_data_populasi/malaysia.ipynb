{
 "cells": [
  {
   "cell_type": "code",
   "execution_count": 1,
   "metadata": {},
   "outputs": [],
   "source": [
    "import csv\n",
    "import requests\n",
    "from bs4 import BeautifulSoup"
   ]
  },
  {
   "cell_type": "code",
   "execution_count": 2,
   "metadata": {},
   "outputs": [
    {
     "data": {
      "text/plain": [
       "'<!doctype html><html lang=\"id\" dir=\"ltr\" translate=\"no\"><head><meta charset=\"utf-8\"><title>Populasi Malaysia (2025)</title><link rel=\"preconnect\" href=\"https://populationtoday.com/\"><link rel=\"dns-prefetch\" href=\"https://populationtoday.com/\"><meta name=\"description\" content=\"Temukan statistik populasi terbaru untuk Malaysia dan jelajahi tren demografis dengan visualisasi data interaktif kami.\"><meta name=\"viewport\" content=\"width=device-width, initial-scale=1\"><meta name=\"google\" content=\"notranslate\"><link rel=\"icon\" href=\"https://populationtoday.com/favicon.ico\" sizes=\"64x64\" type=\"image/x-icon\"><link rel=\"canonical\" href=\"https://populationtoday.com/id/my-malaysia/\"><link rel=\"alternate\" hreflang=\"x-default\" href=\"https://populationtoday.com/my-malaysia/\"><link rel=\"alternate\" hreflang=\"en\" href=\"https://populationtoday.com/my-malaysia/\"><link rel=\"alternate\" hreflang=\"ar\" href=\"https://populationtoday.com/ar/my-malaysia/\"><link rel=\"alternate\" hreflang=\"fr\" href=\"https://populationtoday.com/fr/my-malaysia/\"><link rel=\"alternate\" hreflang=\"tr\" href=\"https://populationtoday.com/tr/my-malaysia/\"><link rel=\"alternate\" hreflang=\"de\" href=\"https://populationtoday.com/de/my-malaysia/\"><link rel=\"alternate\" hreflang=\"es\" href=\"https://populationtoday.com/es/my-malaysia/\"><link rel=\"alternate\" hreflang=\"id\" href=\"https://populationtoday.com/id/my-malaysia/\"><link rel=\"alternate\" hreflang=\"pt\" href=\"https://populationtoday.com/pt/my-malaysia/\"><link rel=\"alternate\" hreflang=\"it\" href=\"https://populationtoday.com/it/my-malaysia/\"><meta property=\"og:url\" content=\"https://populationtoday.com/id/my-malaysia/\"><meta property=\"og:type\" content=\"website\"><meta property=\"og:title\" content=\"Populasi Malaysia (2025)\"><meta property=\"og:description\" content=\"Temukan statistik populasi terbaru untuk Malaysia dan jelajahi tren demografis dengan visualisasi data interaktif kami.\"><meta name=\"twitter:card\" content=\"summary\"><link rel=\"preload\" href=\"/fonts/RobotoSlab-Regular.woff2\" as=\"font\" type=\"font/woff2\" crossorigin=\"anonymous\"><link rel=\"preload\" href=\"/fonts/RobotoSlab-Regular.woff\" as=\"font\" type=\"font/woff\" crossorigin=\"anonymous\"><style>@font-face{font-family:\\'Roboto Slab\\';src:url(/fonts/RobotoSlab-Regular.woff2) format(\\'woff2\\'),url(/fonts/RobotoSlab-Regular.woff) format(\\'woff\\');font-display:swap;font-weight:400;font-style:normal}body{font-family:\\'Roboto Slab\\',serif}*{box-sizing:border-box}body{margin:0;background:#FFF}a{text-decoration:none;color:#0072dd}.text-xlg{font-size:60px}.seo{font-weight:normal;font-style:normal}.textjustify{text-align:justify}.text-center{text-align:center}.header{padding:20px;text-align:center;color:#444;background-color:#f5f5f5}.header h1{font-size:30px}.container{max-width:1000px;margin:0 auto}.navbarContainer{padding:20px 0}.navItems{max-width:1000px;margin:0 auto;display:flex;justify-content:space-between}.navbar{overflow-x:auto;white-space:nowrap;flex-wrap:nowrap;display:flex!important}.navbar a{display:block;color:#000;font-size:18px;text-align:center;padding:14px 20px;text-decoration:none;border-radius:6px;margin:0 2px;transition:background .3s ease 0s}.navbar a.active,.navbar a:hover{background-color:#555;color:white}.row .col-2{width:48%}.clear{clear:both}.row th{font-weight:normal;text-align:end}.todaymoon{text-align:center}.todaymoon img{height:140px}.respTb{overflow:auto;overflow-y:hidden}table{border-collapse:collapse;border-spacing:0;width:100%}thead tr{background-color:#f5f5f5;color:#000}th,td{text-align:start;padding:8px;font-size:18px;font-weight:normal}tbody tr{border-bottom:1px solid #f3f3f3}tr:nth-child(even){background-color:#fbfbfb}tbody tr:hover{background-color:#f2f2f2}.tb-sm td{padding:4px;font-size:16px}ul.tabs{list-style:none;text-align:center}ul.tabs li{display:inline-block;padding:4px 8px;margin:0 3px;border-left:1px solid #efefef;border-right:1px solid #efefef;border-top:1px solid #efefef;font-size:16px;color:#555;cursor:pointer;background-color:#efefef;border-radius:6px 6px 0 0}ul.tabs li.active{color:#000;background-color:#FFF}.nowrap{white-space:nowrap}.footer{background:#31343b;color:#FFF}.footer .container{padding:10px 0}.footer .logo{text-align:center;border-bottom:1px solid #444;padding:10px 0;font-size:16px;font-family:\\'Segoe UI\\',Tahoma,Geneva,Verdana,sans-serif;color:#d5d5d5}.footer .logo img{height:50px;display:block;margin:0 auto}.dgridfooter{display:grid;grid-template-columns:repeat(auto-fit,minmax(150px,1fr));gap:20px 30px;margin-top:20px}.dgridfooter ul{list-style:none;padding:0}.dgridfooter a{color:#FFF;font-size:14px;text-decoration:underline}.footer .copyright{text-align:start;background:#2d3037;padding:10px 0;font-family:\\'Segoe UI\\',Tahoma,Geneva,Verdana,sans-serif}.footer a{color:#ddd}.mt-50{margin-top:50px}.mt-20{margin-top:20px}.budge{font-size:20px;font-weight:600;margin:0 5px}.budge span{margin-left:3px;margin-right:3px}.bx-shadow{box-shadow:rgb(35 55 80 / 10%) 0 0 4px 0;border-radius:4px;padding:20px}.flag{width:26px;height:18px;display:inline-block}.flag-sm{width:17.33px;height:12px;display:inline-block}.flag,.flag-sm{background:url(https://populationtoday.com/images/sprint-icons.png) no-repeat;background-size:100%;background-position:0 98.347107%}.scrollbar{scrollbar-width:auto;scrollbar-color:#765f3a #fff}.scrollbar::-webkit-scrollbar{width:16px}.scrollbar::-webkit-scrollbar-track{background:#fff}.scrollbar::-webkit-scrollbar-thumb{background-color:#765f3a;border-radius:6px;border:3px solid #fff}.dropdown{position:relative}.dropdown-content{display:none;position:absolute;background-color:#FFF;min-width:160px;width:100%;box-shadow:-1px -1px 16px 2px rgb(0 0 0 / 5%);z-index:1;margin:0;max-height:300px;overflow:auto;list-style:none;padding:0;font-size:16px;border-radius:8px}.dropdown-content li{color:black;text-decoration:none;display:block;cursor:pointer}.dropdown-content li a{color:#000;padding:12px 16px;display:block}.dropdown-content li:hover{background-color:#fbfbfb}.show{display:block}.navbarContainer .dropdown{background-color:#FFF;border-radius:6px;min-width:160px}.navbarContainer .dropdown:hover .dropdown-content{display:block!important}.navbarContainer .dropdown .selected{display:block;width:100%;font-size:18px;padding:14px 20px;text-decoration:none;border-radius:6px;margin:0 2px;transition:background .3s ease 0s}.navbarContainer .logo{color:#444;display:flex;align-items:flex-end;text-align:center;font-size:20px;font-weight:700;transition:color .3s ease 0s;font-family:Arial,Helvetica,sans-serif}.navbarContainer .logo a:hover{color:#765f3a}.navbarContainer .logo em{font-size:12px}.navbarContainer .logo img{height:48px;margin:0 5px}thead tr th:first-child{border-radius:8px 0 0 8px;-moz-border-radius:8px 0 0 8px;-webkit-border-radius:8px 0 0 8px}thead tr th:last-child{border-radius:0 8px 8px 0;-moz-border-radius:0 8px 8px 0;-webkit-border-radius:0 8px 8px 0}.row .col-2{float:left}.red{color:#ff4c4c!important}.green{color:green!important}@media only screen and (max-width:750px){.container{padding:10px!important}.navItems{flex-direction:column}.navbarContainer .dropdown{background:none}.navbar{border-bottom:1px solid #222;justify-content:center}.navbarContainer .dropdown .selected{padding:5px;text-align:center}.text-xlg{font-size:40px}.header h1{font-size:20px}.navbarContainer .logo{justify-content:center}.row .col-2{float:none;width:100%}.row th{font-weight:normal;text-align:unset}.bx-shadow{padding:0}}.filterForm input{display:block;width:100%;font-size:18px;padding:8px;border:2px solid #ddd;border-radius:8px;color:#555}.filterForm input:focus{outline:0}</style><script async src=\"https://pagead2.googlesyndication.com/pagead/js/adsbygoogle.js?client=ca-pub-9184638470810001\" crossorigin=\"anonymous\"></script></head><body><div class=\"navbarContainer\"><div class=\"navItems\"><a href=\"https://populationtoday.com/id/\" class=\"logo\" title=\"XAU today\"><img src=\"https://populationtoday.com/images/logo.svg\" alt=\"logo\"> <span>Population<br><em>TODAY</em></span></a><div class=\"navbar\"><a href=\"https://populationtoday.com/id/continents/\" title=\"Gold price per ounce\">Benua</a><a href=\"https://populationtoday.com/id/countries/\" title=\"Gold price per ounce\">Negara</a></div><div class=\"dropdown\"><span class=\"selected\"><span class=\"flag\" style=\"background-position:0 39.669421%;\"></span> Indonesian</span><ul class=\"dropdown-content scrollbar\"><li><a href=\"https://populationtoday.com/my-malaysia/\" title=\"English\"><span class=\"flag flag-sm\" style=\"background-position:0 93.38843%;\"></span> English</a></li><li><a href=\"https://populationtoday.com/ar/my-malaysia/\" title=\"العربية\"><span class=\"flag flag-sm\" style=\"background-position:0 25.619835%;\"></span> العربية</a></li><li><a href=\"https://populationtoday.com/fr/my-malaysia/\" title=\"Français\"><span class=\"flag flag-sm\" style=\"background-position:0 29.752066%;\"></span> Français</a></li><li><a href=\"https://populationtoday.com/tr/my-malaysia/\" title=\"Türkçe\"><span class=\"flag flag-sm\" style=\"background-position:0 89.256198%;\"></span> Türkçe</a></li><li><a href=\"https://populationtoday.com/de/my-malaysia/\" title=\"Deutsch\"><span class=\"flag flag-sm\" style=\"background-position:0 22.31405%;\"></span> Deutsch</a></li><li><a href=\"https://populationtoday.com/es/my-malaysia/\" title=\"Español\"><span class=\"flag flag-sm\" style=\"background-position:0 26.859504%;\"></span> Español</a></li><li><a href=\"https://populationtoday.com/id/my-malaysia/\" title=\"Indonesian\"><span class=\"flag flag-sm\" style=\"background-position:0 39.669421%;\"></span> Indonesian</a></li><li><a href=\"https://populationtoday.com/pt/my-malaysia/\" title=\"Portuguese\"><span class=\"flag flag-sm\" style=\"background-position:0 72.31405%;\"></span> Portuguese</a></li><li><a href=\"https://populationtoday.com/it/my-malaysia/\" title=\"Italian\"><span class=\"flag flag-sm\" style=\"background-position:0 42.975207%;\"></span> Italian</a></li></ul></div></div></div><div class=\"header\"><h1>Populasi Malaysia saat ini</h1><div><strong class=\"text-xlg popLive\" data-gpps=\"0.013033042317227\" data-pop=\"35847641.254281\">35.847.641</strong></div><div>Minggu, 09 Maret 2025</div></div><div class=\"container\"><h2>Penduduk Malaysia hingga saat ini</h2><p>Populasi <strong>Malaysia</strong> saat ini adalah <strong>35.847.641</strong> dengan tingkat pertumbuhan tahunan sebesar 1,149%. Malaysia memiliki populasi 0,436% dari populasi dunia.</p><div class=\"row bx-shadow\"><table class=\"col-2\"><tr><th>Populasi</th><td><strong class=\"popLive\" data-gpps=\"0.013033042317227\" data-pop=\"35847641.254281\">35.847.641</strong></td></tr><tr><th>Tingkat pertumbuhan</th><td>1,149%</td></tr><tr><th>Pria</th><td><span class=\"popLive\" data-gpps=\"0.0068179691267846\" data-pop=\"18752959.239354\">18.752.959</span>\\t(52,313%)</td></tr><tr><th>Perempuan</th><td><span class=\"popLive\" data-gpps=\"0.0062150731904428\" data-pop=\"17094682.014927\">17.094.682</span> (47,687%)</td></tr><tr><th>Perubahan Hari Ini</th><td class=\"green\">+ <span class=\"popLive\" data-gpps=\"0.013033042317227\" data-pop=\"1090.5919480633\">1.091</span></td></tr></table><table class=\"col-2\"><tr><th>Kelahiran hari ini</th><td class=\"popLive\" data-gpps=\"0.013944286779825\" data-pop=\"1166.843973449\">1.167</td></tr><tr><th>Kematian hari ini</th><td class=\"popLive\" data-gpps=\"0.0061164070342724\" data-pop=\"511.81482422088\">512</td></tr><tr><th>Kelahiran tahun 2025</th><td class=\"popLive\" data-gpps=\"0.013944286779825\" data-pop=\"81887.517340215\">81.888</td></tr><tr><th>Kematian pada tahun 2025</th><td class=\"popLive\" data-gpps=\"0.0061164070342724\" data-pop=\"35918.46574781\">35.918</td></tr><tr><th>Perubahan pada tahun 2025</th><td class=\"green\">+ <span class=\"popLive\" data-gpps=\"0.013033042317227\" data-pop=\"76536.254280987\">76.536</span>\\t(0,214%)</td></tr></table><div class=\"clear\"></div></div><h3>Bagan populasi untuk Malaysia</h3><div class=\"bx-shadow mt-50\"><ul class=\"tabs\"><li id=\"tab_total\" class=\"active\" onclick=\"totalPopulation();\">Jumlah penduduk</li><li id=\"tab_birth\" class=\"\" onclick=\"growthRate();\">Tingkat pertumbuhan</li></ul><div id=\"chart_cont\" style=\"height:400px;\"></div></div><h3>Sejarah Penduduk Malaysia</h3><div class=\"bx-shadow respTb\"><table><thead><tr><th>Tahun</th><th>Populasi<br>(01 Jan)</th><th>Perubahan Alam</th><th>Tingkat pertumbuhan<br>(%)</th><th>Jumlah penduduk<br>(31 December)</th></tr></thead><tbody><tr><td>2024</td><td>35.344.242</td><td>424.131</td><td>1,2%</td><td>35.768.373</td></tr><tr><td>2023</td><td>34.908.354</td><td>433.213</td><td>1,241%</td><td>35.341.567</td></tr><tr><td>2022</td><td>34.482.632</td><td>423.102</td><td>1,227%</td><td>34.905.734</td></tr><tr><td>2021</td><td>34.082.165</td><td>398.080</td><td>1,168%</td><td>34.480.245</td></tr><tr><td>2020</td><td>33.696.952</td><td>383.134</td><td>1,137%</td><td>34.080.086</td></tr><tr><td>2019</td><td>33.184.239</td><td>508.714</td><td>1,533%</td><td>33.692.953</td></tr><tr><td>2018</td><td>32.637.695</td><td>542.112</td><td>1,661%</td><td>33.179.807</td></tr><tr><td>2017</td><td>32.073.594</td><td>559.043</td><td>1,743%</td><td>32.632.637</td></tr><tr><td>2016</td><td>31.505.777</td><td>562.693</td><td>1,786%</td><td>32.068.470</td></tr><tr><td>2015</td><td>30.959.818</td><td>541.178</td><td>1,748%</td><td>31.500.996</td></tr></tbody></table></div><div class=\"bx-shadow mt-50\"><h3>Tingkat Migrasi Bersih di Malaysia</h3><p>Tingkat migrasi bersih di Malaysia pada tahun terbaru (2023) diperkirakan sebesar <strong>181.071</strong>,        menunjukkan tren migrasi positif di mana lebih banyak orang datang daripada pergi.</p><h4>Tingkat Migrasi Bersih Selama 10 Tahun Terakhir</h4><div class=\"respTb\"><table><thead><tr><th>Tahun</th><th>Migrasi Bersih</th></tr></thead><tbody><tr><td>2023</td><td>181.071</td></tr><tr><td>2022</td><td>188.154</td></tr><tr><td>2021</td><td>188.506</td></tr><tr><td>2020</td><td>101.907</td></tr><tr><td>2019</td><td>203.284</td></tr><tr><td>2018</td><td>221.965</td></tr><tr><td>2017</td><td>227.677</td></tr><tr><td>2016</td><td>222.141</td></tr><tr><td>2015</td><td>187.663</td></tr><tr><td>2014</td><td>159.791</td></tr></tbody></table></div></div><h3>Populasi negara-negara di dekat Malaysia</h3><div class=\"respTb\"><table class=\"tb-sm\"><thead><tr><th style=\"width:40px\">Pangkat</th><th style=\"width:40px\">Iso</th><th>Negara</th><th>Populasi</th><th>Setara Malaysia</th></tr></thead><tbody><tr><td>1</td><td>BN</td><td><a href=\"https://populationtoday.com/id/bn-brunei/\" title=\"populasi Brunei\"><span class=\"flag\" style=\"background-position:0 11.157025%;\"></span> Brunei</a></td><td>465.225</td><td>1,299%</td></tr><tr><td>2</td><td>ID</td><td><a href=\"https://populationtoday.com/id/id-indonesia/\" title=\"populasi Indonesia\"><span class=\"flag\" style=\"background-position:0 39.669421%;\"></span> Indonesia</a></td><td>285.029.794</td><td>795,676%</td></tr><tr><td>3</td><td>PH</td><td><a href=\"https://populationtoday.com/id/ph-philippines/\" title=\"populasi Philippines\"><span class=\"flag\" style=\"background-position:0 69.834711%;\"></span> Philippines</a></td><td>116.490.870</td><td>325,168%</td></tr><tr><td>4</td><td>SG</td><td><a href=\"https://populationtoday.com/id/sg-singapore/\" title=\"populasi Singapore\"><span class=\"flag\" style=\"background-position:0 78.099174%;\"></span> Singapore</a></td><td>5.859.157</td><td>16,36%</td></tr><tr><td>5</td><td>TH</td><td><a href=\"https://populationtoday.com/id/th-thailand/\" title=\"populasi Thailand\"><span class=\"flag\" style=\"background-position:0 85.950413%;\"></span> Thailand</a></td><td>71.636.808</td><td>200,292%</td></tr></tbody></table></div></div><div class=\"container mt-50\" dir=\"ltr\">Data sources:\\n    <a href=\"https://esa.un.org/unpd/wpp/\" target=\"_blank\">United Nations</a>,<a href=\"https://data.worldbank.org/data-catalog/population-projection-tables\" target=\"_blank\">World Bank</a>,\\n                <a href=\"https://nationsgeo.com/population/asia/my/\" target=\"_blank\">Nations Geo</a> ,<a href=\"https://www.census.gov/data/data-tools.html\" target=\"_blank\">Census</a>,<a href=\"https://wikidata.org/\" target=\"_blank\">Wikidata</a></div><div class=\"footer mt-20\"><div class=\"container\"><div class=\"logo\"><img src=\"https://populationtoday.com/images/logo.svg\" alt=\"Logo\"> Population data is included in world statistical data, which can provide insight into the population size,\\n            population growth rate, and population density of a given country or region</div><div class=\"dgridfooter\"><div><div class=\"title\">Data sources</div><ul><li><a href=\"https://esa.un.org/unpd/wpp/\" target=\"_blank\">United Nations</a></li><li><a href=\"https://data.worldbank.org/data-catalog/population-projection-tables\" target=\"_blank\">World\\n                            Bank</a></li><li><a href=\"https://nationsgeo.com/population/\" target=\"_blank\">Nations Geo</a></li><li><a href=\"https://www.census.gov/data/data-tools.html\" target=\"_blank\">Census</a></li><li><a href=\"https://wikidata.org/\" target=\"_blank\">Wikidata</a></li></ul></div><div><div class=\"title\">Major countries</div><ul><li><a href=\"https://populationtoday.com/id/cn-china/\">China</a></li><li><a href=\"https://populationtoday.com/id/in-india/\">India</a></li><li><a href=\"https://populationtoday.com/id/us-united-states/\">United States</a></li><li><a href=\"https://populationtoday.com/id/id-indonesia/\">Indonesia</a></li><li><a href=\"https://populationtoday.com/id/pk-pakistan/\">Pakistan</a></li></ul></div><div><div class=\"title\">Continents</div><ul><li><a href=\"https://populationtoday.com/id/continents/africa/\">Africa</a></li><li><a href=\"https://populationtoday.com/id/continents/asia/\">Asia</a></li><li><a href=\"https://populationtoday.com/id/continents/europe/\">Europe</a></li><li><a href=\"https://populationtoday.com/id/continents/north-america/\">North America</a></li><li><a href=\"https://populationtoday.com/id/continents/south-america/\">South America</a></li></ul></div><div><div class=\"title\">Contact & privacy</div><ul dir=\"ltr\"><li><a href=\"https://www.facebook.com/populationtoday\" target=\"_blank\">Facebook</a></li><li><a href=\"https://twitter.com/\" target=\"_blank\">Twitter</a></li><li><a href=\"https://populationtoday.com/privacy-policy/\">Privacy Policy</a></li><li><a href=\"https://populationtoday.com/contact-us/\">Contact US</a></li><li><a href=\"https://populationtoday.com/careers/\">Careers</a></li></ul></div></div></div><div dir=\"ltr\" class=\"copyright\"><div class=\"container\">&#169; 2023 Copyright Population Today ,Inc, All rights reserved. S3</div></div></div><script async src=\"https://www.googletagmanager.com/gtag/js?id=G-YC367KF9YE\"></script><script>window.dataLayer=window.dataLayer||[];function gtag(){dataLayer.push(arguments)}gtag(\\'js\\',new Date());gtag(\\'config\\',\\'G-YC367KF9YE\\');</script><script>var fixSec=(new Date()).getTime();setInterval(function(){var popLive=document.getElementsByClassName(\"popLive\");for(var i=0;i<popLive.length;i++){popLive[i].innerHTML=Math.trunc(parseFloat(popLive[i].dataset.pop)+((Math.abs((new Date()).getTime()-fixSec)/1000)*parseFloat(popLive[i].dataset.gpps))).toLocaleString(\\'id-ID\\',{minimumFractionDigits:0})}},100);var removeClass=function(el,cl){var regex=new RegExp(\\'(?:\\\\\\\\s|^)\\'+cl+\\'(?:\\\\\\\\s|$)\\');el.className=el.className.replace(regex,\\' \\').trim()},addClass=function(el,cl){el.className+=\\' \\'+cl};var tabsItem=document.querySelectorAll(\\'.tabs> li\\');for(var i=0;i<tabsItem.length;i++){tabsItem[i].addEventListener(\\'click\\',function(e){e.preventDefault();var tabs=this.parentNode;removeClass(tabs.querySelector(\\'.active\\'),\\'active\\');addClass(this,\\'active\\');var id=this.id})}function drawChart(url,chart=\\'chart_cont\\',title=\\'\\'){Highcharts.getJSON(url,function(res){Highcharts.chart(chart,{title:{text:title},xAxis:{crosshair:true,gridLineWidth:0.5},yAxis:{crosshair:true,gridLineWidth:0.5,title:null},legend:{enabled:false},plotOptions:{area:{fillColor:{linearGradient:{x1:0,y1:0,x2:0,y2:1},stops:[[0,Highcharts.color(\"#31343b\").setOpacity(0.1).get(\"rgba\")],],},marker:{radius:2},lineWidth:2,lineColor:\\'#31343b\\',states:{hover:{lineWidth:4}},threshold:null,},},tooltip:{backgroundColor:\\'#31343b\\',borderRadius:10,hideDelay:500,style:{color:\\'white\\',fontWeight:\\'bold\\',fontSize:16},formatter:function(){return(\\'<div>Year: \\'+this.x+\"<br>\"+new Intl.NumberFormat(\\'en-US\\').format(this.y*1.0))},},series:[{type:\"area\",data:res.data,color:\"#31343b\"}],})})}function appJs(jsFile){var element=document.createElement(\"script\");element.src=jsFile;document.body.appendChild(element);return element}function totalPopulation(){drawChart(\\'https://populationtoday.com/ajax.php?do=country&iso=my\\',\\'chart_cont\\',\"Bagan populasi Malaysia (Dulu, Sekarang, dan Masa Depan)\")}function growthRate(){drawChart(\\'https://populationtoday.com/ajax.php?do=country&iso=my&type=rate\\',\\'chart_cont\\',\"Tingkat pertumbuhan populasi Asia (%)\")}function afterLoad(){appJs(\"https://code.highcharts.com/highcharts.js\").onload=()=>{appJs(\"https://code.highcharts.com/modules/exporting.js\").onload=()=>{totalPopulation()}}}if(window.addEventListener)window.addEventListener(\"load\",afterLoad,false);else if(window.attachEvent)window.attachEvent(\"onload\",afterLoad);else window.onload=afterLoad;</script></body></html>'"
      ]
     },
     "execution_count": 2,
     "metadata": {},
     "output_type": "execute_result"
    }
   ],
   "source": [
    "url = 'https://populationtoday.com/id/my-malaysia/'\n",
    "response = requests.get(url)\n",
    "response.raise_for_status()\n",
    "html = response.text\n",
    "html"
   ]
  },
  {
   "cell_type": "code",
   "execution_count": 3,
   "metadata": {},
   "outputs": [
    {
     "data": {
      "text/plain": [
       "<table><thead><tr><th>Tahun</th><th>Populasi<br/>(01 Jan)</th><th>Perubahan Alam</th><th>Tingkat pertumbuhan<br/>(%)</th><th>Jumlah penduduk<br/>(31 December)</th></tr></thead><tbody><tr><td>2024</td><td>35.344.242</td><td>424.131</td><td>1,2%</td><td>35.768.373</td></tr><tr><td>2023</td><td>34.908.354</td><td>433.213</td><td>1,241%</td><td>35.341.567</td></tr><tr><td>2022</td><td>34.482.632</td><td>423.102</td><td>1,227%</td><td>34.905.734</td></tr><tr><td>2021</td><td>34.082.165</td><td>398.080</td><td>1,168%</td><td>34.480.245</td></tr><tr><td>2020</td><td>33.696.952</td><td>383.134</td><td>1,137%</td><td>34.080.086</td></tr><tr><td>2019</td><td>33.184.239</td><td>508.714</td><td>1,533%</td><td>33.692.953</td></tr><tr><td>2018</td><td>32.637.695</td><td>542.112</td><td>1,661%</td><td>33.179.807</td></tr><tr><td>2017</td><td>32.073.594</td><td>559.043</td><td>1,743%</td><td>32.632.637</td></tr><tr><td>2016</td><td>31.505.777</td><td>562.693</td><td>1,786%</td><td>32.068.470</td></tr><tr><td>2015</td><td>30.959.818</td><td>541.178</td><td>1,748%</td><td>31.500.996</td></tr></tbody></table>"
      ]
     },
     "execution_count": 3,
     "metadata": {},
     "output_type": "execute_result"
    }
   ],
   "source": [
    "soup = BeautifulSoup(html, 'html.parser')\n",
    "container = soup.find('div', class_='bx-shadow respTb')\n",
    "table = container.find('table')\n",
    "table"
   ]
  },
  {
   "cell_type": "code",
   "execution_count": 4,
   "metadata": {},
   "outputs": [
    {
     "data": {
      "text/plain": [
       "['Tahun',\n",
       " 'Populasi(01 Jan)',\n",
       " 'Perubahan Alam',\n",
       " 'Tingkat pertumbuhan(%)',\n",
       " 'Jumlah penduduk(31 December)',\n",
       " 'Nama Negara']"
      ]
     },
     "execution_count": 4,
     "metadata": {},
     "output_type": "execute_result"
    }
   ],
   "source": [
    "headers = [th.get_text(strip=True) for th in table.find_all('th')]\n",
    "headers.append('Nama Negara')\n",
    "headers"
   ]
  },
  {
   "cell_type": "code",
   "execution_count": 5,
   "metadata": {},
   "outputs": [
    {
     "data": {
      "text/plain": [
       "[['2024', '35.344.242', '424.131', '1,2%', '35.768.373', 'Malaysia'],\n",
       " ['2023', '34.908.354', '433.213', '1,241%', '35.341.567', 'Malaysia'],\n",
       " ['2022', '34.482.632', '423.102', '1,227%', '34.905.734', 'Malaysia'],\n",
       " ['2021', '34.082.165', '398.080', '1,168%', '34.480.245', 'Malaysia'],\n",
       " ['2020', '33.696.952', '383.134', '1,137%', '34.080.086', 'Malaysia'],\n",
       " ['2019', '33.184.239', '508.714', '1,533%', '33.692.953', 'Malaysia'],\n",
       " ['2018', '32.637.695', '542.112', '1,661%', '33.179.807', 'Malaysia'],\n",
       " ['2017', '32.073.594', '559.043', '1,743%', '32.632.637', 'Malaysia'],\n",
       " ['2016', '31.505.777', '562.693', '1,786%', '32.068.470', 'Malaysia'],\n",
       " ['2015', '30.959.818', '541.178', '1,748%', '31.500.996', 'Malaysia']]"
      ]
     },
     "execution_count": 5,
     "metadata": {},
     "output_type": "execute_result"
    }
   ],
   "source": [
    "rows = []\n",
    "for tr in table.find_all('tr')[1:]:\n",
    "    cells = [td.get_text(strip=True).replace('\\xa0', ' ') for td in tr.find_all('td')]\n",
    "    cells.append('Malaysia')\n",
    "    rows.append(cells)\n",
    "    \n",
    "rows"
   ]
  },
  {
   "cell_type": "code",
   "execution_count": 6,
   "metadata": {},
   "outputs": [],
   "source": [
    "csv_file = 'malaysia.csv'\n",
    "\n",
    "with open(csv_file, mode='w', newline='', encoding='utf-8') as file:\n",
    "    writer = csv.writer(file)\n",
    "    writer.writerow(headers)\n",
    "    writer.writerows(rows)\n",
    "    "
   ]
  }
 ],
 "metadata": {
  "kernelspec": {
   "display_name": "Python 3",
   "language": "python",
   "name": "python3"
  },
  "language_info": {
   "codemirror_mode": {
    "name": "ipython",
    "version": 3
   },
   "file_extension": ".py",
   "mimetype": "text/x-python",
   "name": "python",
   "nbconvert_exporter": "python",
   "pygments_lexer": "ipython3",
   "version": "3.9.12"
  }
 },
 "nbformat": 4,
 "nbformat_minor": 2
}
