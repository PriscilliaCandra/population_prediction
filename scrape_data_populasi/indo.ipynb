{
 "cells": [
  {
   "cell_type": "code",
   "execution_count": 2,
   "metadata": {},
   "outputs": [],
   "source": [
    "import csv\n",
    "import requests\n",
    "from bs4 import BeautifulSoup"
   ]
  },
  {
   "cell_type": "code",
   "execution_count": 4,
   "metadata": {},
   "outputs": [
    {
     "data": {
      "text/plain": [
       "'<!doctype html><html lang=\"id\" dir=\"ltr\" translate=\"no\"><head><meta charset=\"utf-8\"><title>Populasi Indonesia (2025)</title><link rel=\"preconnect\" href=\"https://populationtoday.com/\"><link rel=\"dns-prefetch\" href=\"https://populationtoday.com/\"><meta name=\"description\" content=\"Temukan statistik populasi terbaru untuk Indonesia dan jelajahi tren demografis dengan visualisasi data interaktif kami.\"><meta name=\"viewport\" content=\"width=device-width, initial-scale=1\"><meta name=\"google\" content=\"notranslate\"><link rel=\"icon\" href=\"https://populationtoday.com/favicon.ico\" sizes=\"64x64\" type=\"image/x-icon\"><link rel=\"canonical\" href=\"https://populationtoday.com/id/id-indonesia/\"><link rel=\"alternate\" hreflang=\"x-default\" href=\"https://populationtoday.com/id-indonesia/\"><link rel=\"alternate\" hreflang=\"en\" href=\"https://populationtoday.com/id-indonesia/\"><link rel=\"alternate\" hreflang=\"ar\" href=\"https://populationtoday.com/ar/id-indonesia/\"><link rel=\"alternate\" hreflang=\"fr\" href=\"https://populationtoday.com/fr/id-indonesia/\"><link rel=\"alternate\" hreflang=\"tr\" href=\"https://populationtoday.com/tr/id-indonesia/\"><link rel=\"alternate\" hreflang=\"de\" href=\"https://populationtoday.com/de/id-indonesia/\"><link rel=\"alternate\" hreflang=\"es\" href=\"https://populationtoday.com/es/id-indonesia/\"><link rel=\"alternate\" hreflang=\"id\" href=\"https://populationtoday.com/id/id-indonesia/\"><link rel=\"alternate\" hreflang=\"pt\" href=\"https://populationtoday.com/pt/id-indonesia/\"><link rel=\"alternate\" hreflang=\"it\" href=\"https://populationtoday.com/it/id-indonesia/\"><meta property=\"og:url\" content=\"https://populationtoday.com/id/id-indonesia/\"><meta property=\"og:type\" content=\"website\"><meta property=\"og:title\" content=\"Populasi Indonesia (2025)\"><meta property=\"og:description\" content=\"Temukan statistik populasi terbaru untuk Indonesia dan jelajahi tren demografis dengan visualisasi data interaktif kami.\"><meta name=\"twitter:card\" content=\"summary\"><link rel=\"preload\" href=\"/fonts/RobotoSlab-Regular.woff2\" as=\"font\" type=\"font/woff2\" crossorigin=\"anonymous\"><link rel=\"preload\" href=\"/fonts/RobotoSlab-Regular.woff\" as=\"font\" type=\"font/woff\" crossorigin=\"anonymous\"><style>@font-face{font-family:\\'Roboto Slab\\';src:url(/fonts/RobotoSlab-Regular.woff2) format(\\'woff2\\'),url(/fonts/RobotoSlab-Regular.woff) format(\\'woff\\');font-display:swap;font-weight:400;font-style:normal}body{font-family:\\'Roboto Slab\\',serif}*{box-sizing:border-box}body{margin:0;background:#FFF}a{text-decoration:none;color:#0072dd}.text-xlg{font-size:60px}.seo{font-weight:normal;font-style:normal}.textjustify{text-align:justify}.text-center{text-align:center}.header{padding:20px;text-align:center;color:#444;background-color:#f5f5f5}.header h1{font-size:30px}.container{max-width:1000px;margin:0 auto}.navbarContainer{padding:20px 0}.navItems{max-width:1000px;margin:0 auto;display:flex;justify-content:space-between}.navbar{overflow-x:auto;white-space:nowrap;flex-wrap:nowrap;display:flex!important}.navbar a{display:block;color:#000;font-size:18px;text-align:center;padding:14px 20px;text-decoration:none;border-radius:6px;margin:0 2px;transition:background .3s ease 0s}.navbar a.active,.navbar a:hover{background-color:#555;color:white}.row .col-2{width:48%}.clear{clear:both}.row th{font-weight:normal;text-align:end}.todaymoon{text-align:center}.todaymoon img{height:140px}.respTb{overflow:auto;overflow-y:hidden}table{border-collapse:collapse;border-spacing:0;width:100%}thead tr{background-color:#f5f5f5;color:#000}th,td{text-align:start;padding:8px;font-size:18px;font-weight:normal}tbody tr{border-bottom:1px solid #f3f3f3}tr:nth-child(even){background-color:#fbfbfb}tbody tr:hover{background-color:#f2f2f2}.tb-sm td{padding:4px;font-size:16px}ul.tabs{list-style:none;text-align:center}ul.tabs li{display:inline-block;padding:4px 8px;margin:0 3px;border-left:1px solid #efefef;border-right:1px solid #efefef;border-top:1px solid #efefef;font-size:16px;color:#555;cursor:pointer;background-color:#efefef;border-radius:6px 6px 0 0}ul.tabs li.active{color:#000;background-color:#FFF}.nowrap{white-space:nowrap}.footer{background:#31343b;color:#FFF}.footer .container{padding:10px 0}.footer .logo{text-align:center;border-bottom:1px solid #444;padding:10px 0;font-size:16px;font-family:\\'Segoe UI\\',Tahoma,Geneva,Verdana,sans-serif;color:#d5d5d5}.footer .logo img{height:50px;display:block;margin:0 auto}.dgridfooter{display:grid;grid-template-columns:repeat(auto-fit,minmax(150px,1fr));gap:20px 30px;margin-top:20px}.dgridfooter ul{list-style:none;padding:0}.dgridfooter a{color:#FFF;font-size:14px;text-decoration:underline}.footer .copyright{text-align:start;background:#2d3037;padding:10px 0;font-family:\\'Segoe UI\\',Tahoma,Geneva,Verdana,sans-serif}.footer a{color:#ddd}.mt-50{margin-top:50px}.mt-20{margin-top:20px}.budge{font-size:20px;font-weight:600;margin:0 5px}.budge span{margin-left:3px;margin-right:3px}.bx-shadow{box-shadow:rgb(35 55 80 / 10%) 0 0 4px 0;border-radius:4px;padding:20px}.flag{width:26px;height:18px;display:inline-block}.flag-sm{width:17.33px;height:12px;display:inline-block}.flag,.flag-sm{background:url(https://populationtoday.com/images/sprint-icons.png) no-repeat;background-size:100%;background-position:0 98.347107%}.scrollbar{scrollbar-width:auto;scrollbar-color:#765f3a #fff}.scrollbar::-webkit-scrollbar{width:16px}.scrollbar::-webkit-scrollbar-track{background:#fff}.scrollbar::-webkit-scrollbar-thumb{background-color:#765f3a;border-radius:6px;border:3px solid #fff}.dropdown{position:relative}.dropdown-content{display:none;position:absolute;background-color:#FFF;min-width:160px;width:100%;box-shadow:-1px -1px 16px 2px rgb(0 0 0 / 5%);z-index:1;margin:0;max-height:300px;overflow:auto;list-style:none;padding:0;font-size:16px;border-radius:8px}.dropdown-content li{color:black;text-decoration:none;display:block;cursor:pointer}.dropdown-content li a{color:#000;padding:12px 16px;display:block}.dropdown-content li:hover{background-color:#fbfbfb}.show{display:block}.navbarContainer .dropdown{background-color:#FFF;border-radius:6px;min-width:160px}.navbarContainer .dropdown:hover .dropdown-content{display:block!important}.navbarContainer .dropdown .selected{display:block;width:100%;font-size:18px;padding:14px 20px;text-decoration:none;border-radius:6px;margin:0 2px;transition:background .3s ease 0s}.navbarContainer .logo{color:#444;display:flex;align-items:flex-end;text-align:center;font-size:20px;font-weight:700;transition:color .3s ease 0s;font-family:Arial,Helvetica,sans-serif}.navbarContainer .logo a:hover{color:#765f3a}.navbarContainer .logo em{font-size:12px}.navbarContainer .logo img{height:48px;margin:0 5px}thead tr th:first-child{border-radius:8px 0 0 8px;-moz-border-radius:8px 0 0 8px;-webkit-border-radius:8px 0 0 8px}thead tr th:last-child{border-radius:0 8px 8px 0;-moz-border-radius:0 8px 8px 0;-webkit-border-radius:0 8px 8px 0}.row .col-2{float:left}.red{color:#ff4c4c!important}.green{color:green!important}@media only screen and (max-width:750px){.container{padding:10px!important}.navItems{flex-direction:column}.navbarContainer .dropdown{background:none}.navbar{border-bottom:1px solid #222;justify-content:center}.navbarContainer .dropdown .selected{padding:5px;text-align:center}.text-xlg{font-size:40px}.header h1{font-size:20px}.navbarContainer .logo{justify-content:center}.row .col-2{float:none;width:100%}.row th{font-weight:normal;text-align:unset}.bx-shadow{padding:0}}.filterForm input{display:block;width:100%;font-size:18px;padding:8px;border:2px solid #ddd;border-radius:8px;color:#555}.filterForm input:focus{outline:0}</style><script async src=\"https://pagead2.googlesyndication.com/pagead/js/adsbygoogle.js?client=ca-pub-9184638470810001\" crossorigin=\"anonymous\"></script></head><body><div class=\"navbarContainer\"><div class=\"navItems\"><a href=\"https://populationtoday.com/id/\" class=\"logo\" title=\"XAU today\"><img src=\"https://populationtoday.com/images/logo.svg\" alt=\"logo\"> <span>Population<br><em>TODAY</em></span></a><div class=\"navbar\"><a href=\"https://populationtoday.com/id/continents/\" title=\"Gold price per ounce\">Benua</a><a href=\"https://populationtoday.com/id/countries/\" title=\"Gold price per ounce\">Negara</a></div><div class=\"dropdown\"><span class=\"selected\"><span class=\"flag\" style=\"background-position:0 39.669421%;\"></span> Indonesian</span><ul class=\"dropdown-content scrollbar\"><li><a href=\"https://populationtoday.com/id-indonesia/\" title=\"English\"><span class=\"flag flag-sm\" style=\"background-position:0 93.38843%;\"></span> English</a></li><li><a href=\"https://populationtoday.com/ar/id-indonesia/\" title=\"العربية\"><span class=\"flag flag-sm\" style=\"background-position:0 25.619835%;\"></span> العربية</a></li><li><a href=\"https://populationtoday.com/fr/id-indonesia/\" title=\"Français\"><span class=\"flag flag-sm\" style=\"background-position:0 29.752066%;\"></span> Français</a></li><li><a href=\"https://populationtoday.com/tr/id-indonesia/\" title=\"Türkçe\"><span class=\"flag flag-sm\" style=\"background-position:0 89.256198%;\"></span> Türkçe</a></li><li><a href=\"https://populationtoday.com/de/id-indonesia/\" title=\"Deutsch\"><span class=\"flag flag-sm\" style=\"background-position:0 22.31405%;\"></span> Deutsch</a></li><li><a href=\"https://populationtoday.com/es/id-indonesia/\" title=\"Español\"><span class=\"flag flag-sm\" style=\"background-position:0 26.859504%;\"></span> Español</a></li><li><a href=\"https://populationtoday.com/id/id-indonesia/\" title=\"Indonesian\"><span class=\"flag flag-sm\" style=\"background-position:0 39.669421%;\"></span> Indonesian</a></li><li><a href=\"https://populationtoday.com/pt/id-indonesia/\" title=\"Portuguese\"><span class=\"flag flag-sm\" style=\"background-position:0 72.31405%;\"></span> Portuguese</a></li><li><a href=\"https://populationtoday.com/it/id-indonesia/\" title=\"Italian\"><span class=\"flag flag-sm\" style=\"background-position:0 42.975207%;\"></span> Italian</a></li></ul></div></div></div><div class=\"header\"><h1>Populasi Indonesia saat ini</h1><div><strong class=\"text-xlg popLive\" data-gpps=\"0.069404648260378\" data-pop=\"285029751.16972\">285.029.751</strong></div><div>Minggu, 09 Maret 2025</div></div><div class=\"container\"><h2>Penduduk Indonesia hingga saat ini</h2><p>Populasi <strong>Indonesia</strong> saat ini adalah <strong>285.029.751</strong> dengan tingkat pertumbuhan tahunan sebesar 0,769%. Indonesia memiliki populasi 3,472% dari populasi dunia.</p><div class=\"row bx-shadow\"><table class=\"col-2\"><tr><th>Populasi</th><td><strong class=\"popLive\" data-gpps=\"0.069404648260378\" data-pop=\"285029751.16972\">285.029.751</strong></td></tr><tr><th>Tingkat pertumbuhan</th><td>0,769%</td></tr><tr><th>Pria</th><td><span class=\"popLive\" data-gpps=\"0.034864322506651\" data-pop=\"143180167.58028\">143.180.168</span>\\t(50,233%)</td></tr><tr><th>Perempuan</th><td><span class=\"popLive\" data-gpps=\"0.034540325753727\" data-pop=\"141849583.58944\">141.849.584</span> (49,767%)</td></tr><tr><th>Perubahan Hari Ini</th><td class=\"green\">+ <span class=\"popLive\" data-gpps=\"0.069404648260378\" data-pop=\"5764.6112752105\">5.765</span></td></tr></table><table class=\"col-2\"><tr><th>Kelahiran hari ini</th><td class=\"popLive\" data-gpps=\"0.14081805814422\" data-pop=\"11696.066273343\">11.696</td></tr><tr><th>Kematian hari ini</th><td class=\"popLive\" data-gpps=\"0.069866093979331\" data-pop=\"5802.9380337353\">5.803</td></tr><tr><th>Kelahiran tahun 2025</th><td class=\"popLive\" data-gpps=\"0.14081805814422\" data-pop=\"826863.50044054\">826.864</td></tr><tr><th>Kematian pada tahun 2025</th><td class=\"popLive\" data-gpps=\"0.069866093979331\" data-pop=\"410243.71299519\">410.244</td></tr><tr><th>Perubahan pada tahun 2025</th><td class=\"green\">+ <span class=\"popLive\" data-gpps=\"0.069404648260378\" data-pop=\"407534.16972024\">407.534</span>\\t(0,143%)</td></tr></table><div class=\"clear\"></div></div><h3>Bagan populasi untuk Indonesia</h3><div class=\"bx-shadow mt-50\"><ul class=\"tabs\"><li id=\"tab_total\" class=\"active\" onclick=\"totalPopulation();\">Jumlah penduduk</li><li id=\"tab_birth\" class=\"\" onclick=\"growthRate();\">Tingkat pertumbuhan</li></ul><div id=\"chart_cont\" style=\"height:400px;\"></div></div><h3>Sejarah Penduduk Indonesia</h3><div class=\"bx-shadow respTb\"><table><thead><tr><th>Tahun</th><th>Populasi<br>(01 Jan)</th><th>Perubahan Alam</th><th>Tingkat pertumbuhan<br>(%)</th><th>Jumlah penduduk<br>(31 December)</th></tr></thead><tbody><tr><td>2024</td><td>282.353.644</td><td>2.258.829</td><td>0,8%</td><td>284.612.473</td></tr><tr><td>2023</td><td>280.026.489</td><td>2.318.619</td><td>0,828%</td><td>282.345.108</td></tr><tr><td>2022</td><td>277.634.568</td><td>2.382.105</td><td>0,858%</td><td>280.016.673</td></tr><tr><td>2021</td><td>275.881.538</td><td>1.746.330</td><td>0,633%</td><td>277.627.868</td></tr><tr><td>2020</td><td>273.748.193</td><td>2.124.286</td><td>0,776%</td><td>275.872.479</td></tr><tr><td>2019</td><td>271.230.569</td><td>2.506.170</td><td>0,924%</td><td>273.736.739</td></tr><tr><td>2018</td><td>268.673.124</td><td>2.544.334</td><td>0,947%</td><td>271.217.458</td></tr><tr><td>2017</td><td>266.020.192</td><td>2.638.920</td><td>0,992%</td><td>268.659.112</td></tr><tr><td>2016</td><td>263.234.644</td><td>2.771.861</td><td>1,053%</td><td>266.006.505</td></tr><tr><td>2015</td><td>260.363.854</td><td>2.856.191</td><td>1,097%</td><td>263.220.045</td></tr></tbody></table></div><div class=\"bx-shadow mt-50\"><h3>Tingkat Migrasi Bersih di Indonesia</h3><p>Tingkat migrasi bersih di Indonesia pada tahun terbaru (2023) diperkirakan sebesar <strong>-37.501</strong>,        menunjukkan tren migrasi negatif di mana lebih banyak orang pergi daripada datang.</p><h4>Tingkat Migrasi Bersih Selama 10 Tahun Terakhir</h4><div class=\"respTb\"><table><thead><tr><th>Tahun</th><th>Migrasi Bersih</th></tr></thead><tbody><tr><td>2023</td><td>-37.501</td></tr><tr><td>2022</td><td>-37.501</td></tr><tr><td>2021</td><td>-11.248</td></tr><tr><td>2020</td><td>-18.743</td></tr><tr><td>2019</td><td>-30.421</td></tr><tr><td>2018</td><td>-29.911</td></tr><tr><td>2017</td><td>-29.467</td></tr><tr><td>2016</td><td>-28.991</td></tr><tr><td>2015</td><td>-28.487</td></tr><tr><td>2014</td><td>-27.988</td></tr></tbody></table></div></div><h3>Populasi negara-negara di dekat Indonesia</h3><div class=\"respTb\"><table class=\"tb-sm\"><thead><tr><th style=\"width:40px\">Pangkat</th><th style=\"width:40px\">Iso</th><th>Negara</th><th>Populasi</th><th>Setara Indonesia</th></tr></thead><tbody><tr><td>1</td><td>IN</td><td><a href=\"https://populationtoday.com/id/in-india/\" title=\"populasi India\"><span class=\"flag\" style=\"background-position:0 40.909091%;\"></span> India</a></td><td>1.459.820.660</td><td>512,06%</td></tr><tr><td>2</td><td>MY</td><td><a href=\"https://populationtoday.com/id/my-malaysia/\" title=\"populasi Malaysia\"><span class=\"flag\" style=\"background-position:0 61.983471%;\"></span> Malaysia</a></td><td>35.847.633</td><td>12,568%</td></tr><tr><td>3</td><td>PH</td><td><a href=\"https://populationtoday.com/id/ph-philippines/\" title=\"populasi Philippines\"><span class=\"flag\" style=\"background-position:0 69.834711%;\"></span> Philippines</a></td><td>116.490.852</td><td>40,867%</td></tr><tr><td>4</td><td>SG</td><td><a href=\"https://populationtoday.com/id/sg-singapore/\" title=\"populasi Singapore\"><span class=\"flag\" style=\"background-position:0 78.099174%;\"></span> Singapore</a></td><td>5.859.156</td><td>2,056%</td></tr><tr><td>5</td><td>TH</td><td><a href=\"https://populationtoday.com/id/th-thailand/\" title=\"populasi Thailand\"><span class=\"flag\" style=\"background-position:0 85.950413%;\"></span> Thailand</a></td><td>71.636.809</td><td>25,173%</td></tr><tr><td>6</td><td>TL</td><td><a href=\"https://populationtoday.com/id/tl-east-timor/\" title=\"populasi East Timor\"><span class=\"flag\" style=\"background-position:0 87.190083%;\"></span> East Timor</a></td><td>1.412.868</td><td>0,495%</td></tr><tr><td>7</td><td>VN</td><td><a href=\"https://populationtoday.com/id/vn-vietnam/\" title=\"populasi Vietnam\"><span class=\"flag\" style=\"background-position:0 96.694215%;\"></span> Vietnam</a></td><td>101.410.987</td><td>35,591%</td></tr><tr><td>8</td><td>AU</td><td><a href=\"https://populationtoday.com/id/au-australia/\" title=\"populasi Australia\"><span class=\"flag\" style=\"background-position:0 5.785124%;\"></span> Australia</a></td><td>26.892.799</td><td>9,432%</td></tr><tr><td>9</td><td>PG</td><td><a href=\"https://populationtoday.com/id/pg-papua-new-guinea/\" title=\"populasi Papua New Guinea\"><span class=\"flag\" style=\"background-position:0 69.421488%;\"></span> Papua New Guine...</a></td><td>10.704.232</td><td>3,749%</td></tr><tr><td>10</td><td>PW</td><td><a href=\"https://populationtoday.com/id/pw-palau/\" title=\"populasi Palau\"><span class=\"flag\" style=\"background-position:0 72.727273%;\"></span> Palau</a></td><td>17.676</td><td>0,006%</td></tr></tbody></table></div></div><div class=\"container mt-50\" dir=\"ltr\">Data sources:\\n    <a href=\"https://esa.un.org/unpd/wpp/\" target=\"_blank\">United Nations</a>,<a href=\"https://data.worldbank.org/data-catalog/population-projection-tables\" target=\"_blank\">World Bank</a>,\\n                <a href=\"https://nationsgeo.com/population/\" target=\"_blank\">Nations Geo</a> ,<a href=\"https://www.census.gov/data/data-tools.html\" target=\"_blank\">Census</a>,<a href=\"https://wikidata.org/\" target=\"_blank\">Wikidata</a></div><div class=\"footer mt-20\"><div class=\"container\"><div class=\"logo\"><img src=\"https://populationtoday.com/images/logo.svg\" alt=\"Logo\"> Population data is included in world statistical data, which can provide insight into the population size,\\n            population growth rate, and population density of a given country or region</div><div class=\"dgridfooter\"><div><div class=\"title\">Data sources</div><ul><li><a href=\"https://esa.un.org/unpd/wpp/\" target=\"_blank\">United Nations</a></li><li><a href=\"https://data.worldbank.org/data-catalog/population-projection-tables\" target=\"_blank\">World\\n                            Bank</a></li><li><a href=\"https://nationsgeo.com/population/\" target=\"_blank\">Nations Geo</a></li><li><a href=\"https://www.census.gov/data/data-tools.html\" target=\"_blank\">Census</a></li><li><a href=\"https://wikidata.org/\" target=\"_blank\">Wikidata</a></li></ul></div><div><div class=\"title\">Major countries</div><ul><li><a href=\"https://populationtoday.com/id/cn-china/\">China</a></li><li><a href=\"https://populationtoday.com/id/in-india/\">India</a></li><li><a href=\"https://populationtoday.com/id/us-united-states/\">United States</a></li><li><a href=\"https://populationtoday.com/id/id-indonesia/\">Indonesia</a></li><li><a href=\"https://populationtoday.com/id/pk-pakistan/\">Pakistan</a></li></ul></div><div><div class=\"title\">Continents</div><ul><li><a href=\"https://populationtoday.com/id/continents/africa/\">Africa</a></li><li><a href=\"https://populationtoday.com/id/continents/asia/\">Asia</a></li><li><a href=\"https://populationtoday.com/id/continents/europe/\">Europe</a></li><li><a href=\"https://populationtoday.com/id/continents/north-america/\">North America</a></li><li><a href=\"https://populationtoday.com/id/continents/south-america/\">South America</a></li></ul></div><div><div class=\"title\">Contact & privacy</div><ul dir=\"ltr\"><li><a href=\"https://www.facebook.com/populationtoday\" target=\"_blank\">Facebook</a></li><li><a href=\"https://twitter.com/\" target=\"_blank\">Twitter</a></li><li><a href=\"https://populationtoday.com/privacy-policy/\">Privacy Policy</a></li><li><a href=\"https://populationtoday.com/contact-us/\">Contact US</a></li><li><a href=\"https://populationtoday.com/careers/\">Careers</a></li></ul></div></div></div><div dir=\"ltr\" class=\"copyright\"><div class=\"container\">&#169; 2023 Copyright Population Today ,Inc, All rights reserved. S3</div></div></div><script async src=\"https://www.googletagmanager.com/gtag/js?id=G-YC367KF9YE\"></script><script>window.dataLayer=window.dataLayer||[];function gtag(){dataLayer.push(arguments)}gtag(\\'js\\',new Date());gtag(\\'config\\',\\'G-YC367KF9YE\\');</script><script>var fixSec=(new Date()).getTime();setInterval(function(){var popLive=document.getElementsByClassName(\"popLive\");for(var i=0;i<popLive.length;i++){popLive[i].innerHTML=Math.trunc(parseFloat(popLive[i].dataset.pop)+((Math.abs((new Date()).getTime()-fixSec)/1000)*parseFloat(popLive[i].dataset.gpps))).toLocaleString(\\'id-ID\\',{minimumFractionDigits:0})}},100);var removeClass=function(el,cl){var regex=new RegExp(\\'(?:\\\\\\\\s|^)\\'+cl+\\'(?:\\\\\\\\s|$)\\');el.className=el.className.replace(regex,\\' \\').trim()},addClass=function(el,cl){el.className+=\\' \\'+cl};var tabsItem=document.querySelectorAll(\\'.tabs> li\\');for(var i=0;i<tabsItem.length;i++){tabsItem[i].addEventListener(\\'click\\',function(e){e.preventDefault();var tabs=this.parentNode;removeClass(tabs.querySelector(\\'.active\\'),\\'active\\');addClass(this,\\'active\\');var id=this.id})}function drawChart(url,chart=\\'chart_cont\\',title=\\'\\'){Highcharts.getJSON(url,function(res){Highcharts.chart(chart,{title:{text:title},xAxis:{crosshair:true,gridLineWidth:0.5},yAxis:{crosshair:true,gridLineWidth:0.5,title:null},legend:{enabled:false},plotOptions:{area:{fillColor:{linearGradient:{x1:0,y1:0,x2:0,y2:1},stops:[[0,Highcharts.color(\"#31343b\").setOpacity(0.1).get(\"rgba\")],],},marker:{radius:2},lineWidth:2,lineColor:\\'#31343b\\',states:{hover:{lineWidth:4}},threshold:null,},},tooltip:{backgroundColor:\\'#31343b\\',borderRadius:10,hideDelay:500,style:{color:\\'white\\',fontWeight:\\'bold\\',fontSize:16},formatter:function(){return(\\'<div>Year: \\'+this.x+\"<br>\"+new Intl.NumberFormat(\\'en-US\\').format(this.y*1.0))},},series:[{type:\"area\",data:res.data,color:\"#31343b\"}],})})}function appJs(jsFile){var element=document.createElement(\"script\");element.src=jsFile;document.body.appendChild(element);return element}function totalPopulation(){drawChart(\\'https://populationtoday.com/ajax.php?do=country&iso=id\\',\\'chart_cont\\',\"Bagan populasi Indonesia (Dulu, Sekarang, dan Masa Depan)\")}function growthRate(){drawChart(\\'https://populationtoday.com/ajax.php?do=country&iso=id&type=rate\\',\\'chart_cont\\',\"Tingkat pertumbuhan populasi Asia (%)\")}function afterLoad(){appJs(\"https://code.highcharts.com/highcharts.js\").onload=()=>{appJs(\"https://code.highcharts.com/modules/exporting.js\").onload=()=>{totalPopulation()}}}if(window.addEventListener)window.addEventListener(\"load\",afterLoad,false);else if(window.attachEvent)window.attachEvent(\"onload\",afterLoad);else window.onload=afterLoad;</script></body></html>'"
      ]
     },
     "execution_count": 4,
     "metadata": {},
     "output_type": "execute_result"
    }
   ],
   "source": [
    "url = 'https://populationtoday.com/id/id-indonesia/'\n",
    "response = requests.get(url)\n",
    "response.raise_for_status()\n",
    "html = response.text\n",
    "html"
   ]
  },
  {
   "cell_type": "code",
   "execution_count": 6,
   "metadata": {},
   "outputs": [
    {
     "data": {
      "text/plain": [
       "<table><thead><tr><th>Tahun</th><th>Populasi<br/>(01 Jan)</th><th>Perubahan Alam</th><th>Tingkat pertumbuhan<br/>(%)</th><th>Jumlah penduduk<br/>(31 December)</th></tr></thead><tbody><tr><td>2024</td><td>282.353.644</td><td>2.258.829</td><td>0,8%</td><td>284.612.473</td></tr><tr><td>2023</td><td>280.026.489</td><td>2.318.619</td><td>0,828%</td><td>282.345.108</td></tr><tr><td>2022</td><td>277.634.568</td><td>2.382.105</td><td>0,858%</td><td>280.016.673</td></tr><tr><td>2021</td><td>275.881.538</td><td>1.746.330</td><td>0,633%</td><td>277.627.868</td></tr><tr><td>2020</td><td>273.748.193</td><td>2.124.286</td><td>0,776%</td><td>275.872.479</td></tr><tr><td>2019</td><td>271.230.569</td><td>2.506.170</td><td>0,924%</td><td>273.736.739</td></tr><tr><td>2018</td><td>268.673.124</td><td>2.544.334</td><td>0,947%</td><td>271.217.458</td></tr><tr><td>2017</td><td>266.020.192</td><td>2.638.920</td><td>0,992%</td><td>268.659.112</td></tr><tr><td>2016</td><td>263.234.644</td><td>2.771.861</td><td>1,053%</td><td>266.006.505</td></tr><tr><td>2015</td><td>260.363.854</td><td>2.856.191</td><td>1,097%</td><td>263.220.045</td></tr></tbody></table>"
      ]
     },
     "execution_count": 6,
     "metadata": {},
     "output_type": "execute_result"
    }
   ],
   "source": [
    "soup = BeautifulSoup(html, 'html.parser')\n",
    "container = soup.find('div', class_='bx-shadow respTb')\n",
    "table = container.find('table')\n",
    "table"
   ]
  },
  {
   "cell_type": "code",
   "execution_count": 9,
   "metadata": {},
   "outputs": [
    {
     "data": {
      "text/plain": [
       "['Tahun',\n",
       " 'Populasi(01 Jan)',\n",
       " 'Perubahan Alam',\n",
       " 'Tingkat pertumbuhan(%)',\n",
       " 'Jumlah penduduk(31 December)',\n",
       " 'Nama Negara']"
      ]
     },
     "execution_count": 9,
     "metadata": {},
     "output_type": "execute_result"
    }
   ],
   "source": [
    "headers = [th.get_text(strip=True) for th in table.find_all('th')]\n",
    "headers.append('Nama Negara')\n",
    "headers"
   ]
  },
  {
   "cell_type": "code",
   "execution_count": 10,
   "metadata": {},
   "outputs": [
    {
     "data": {
      "text/plain": [
       "[['2024', '282.353.644', '2.258.829', '0,8%', '284.612.473', 'Indonesia'],\n",
       " ['2023', '280.026.489', '2.318.619', '0,828%', '282.345.108', 'Indonesia'],\n",
       " ['2022', '277.634.568', '2.382.105', '0,858%', '280.016.673', 'Indonesia'],\n",
       " ['2021', '275.881.538', '1.746.330', '0,633%', '277.627.868', 'Indonesia'],\n",
       " ['2020', '273.748.193', '2.124.286', '0,776%', '275.872.479', 'Indonesia'],\n",
       " ['2019', '271.230.569', '2.506.170', '0,924%', '273.736.739', 'Indonesia'],\n",
       " ['2018', '268.673.124', '2.544.334', '0,947%', '271.217.458', 'Indonesia'],\n",
       " ['2017', '266.020.192', '2.638.920', '0,992%', '268.659.112', 'Indonesia'],\n",
       " ['2016', '263.234.644', '2.771.861', '1,053%', '266.006.505', 'Indonesia'],\n",
       " ['2015', '260.363.854', '2.856.191', '1,097%', '263.220.045', 'Indonesia']]"
      ]
     },
     "execution_count": 10,
     "metadata": {},
     "output_type": "execute_result"
    }
   ],
   "source": [
    "rows = []\n",
    "for tr in table.find_all('tr')[1:]:\n",
    "    cells = [td.get_text(strip=True).replace('\\xa0', ' ') for td in tr.find_all('td')]\n",
    "    cells.append('Indonesia')\n",
    "    rows.append(cells)\n",
    "    \n",
    "rows"
   ]
  },
  {
   "cell_type": "code",
   "execution_count": 11,
   "metadata": {},
   "outputs": [],
   "source": [
    "csv_file = 'indonesia.csv'\n",
    "\n",
    "with open(csv_file, mode='w', newline='', encoding='utf-8') as file:\n",
    "    writer = csv.writer(file)\n",
    "    writer.writerow(headers)\n",
    "    writer.writerows(rows)\n",
    "    "
   ]
  }
 ],
 "metadata": {
  "kernelspec": {
   "display_name": "Python 3",
   "language": "python",
   "name": "python3"
  },
  "language_info": {
   "codemirror_mode": {
    "name": "ipython",
    "version": 3
   },
   "file_extension": ".py",
   "mimetype": "text/x-python",
   "name": "python",
   "nbconvert_exporter": "python",
   "pygments_lexer": "ipython3",
   "version": "3.9.12"
  }
 },
 "nbformat": 4,
 "nbformat_minor": 2
}
